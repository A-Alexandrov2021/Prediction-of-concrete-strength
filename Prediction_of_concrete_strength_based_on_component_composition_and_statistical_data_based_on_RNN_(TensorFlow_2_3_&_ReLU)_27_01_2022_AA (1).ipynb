{
  "cells": [
    {
      "cell_type": "code",
      "execution_count": null,
      "metadata": {
        "id": "0472bf67b2bf"
      },
      "outputs": [],
      "source": [
        "import tensorflow as tf\n",
        "from tensorflow import keras\n",
        "from tensorflow.keras import layers\n",
        "import pandas as pd\n",
        "import datetime, os\n",
        "\n",
        "\n",
        "#logs_base_dir = \".logs\"\n",
        "#os.makedirs(logs_base_dir, exist_ok = True)\n",
        "#%tensorboard --logdir {logs_base_dir}"
      ]
    },
    {
      "cell_type": "markdown",
      "source": [
        "**Prediction of concrete strength based on composition of composition and statistical data based on RNN + LSTM**"
      ],
      "metadata": {
        "id": "k89i0h-2FBwa"
      }
    },
    {
      "cell_type": "code",
      "source": [
        "import matplotlib.pyplot as plt\n"
      ],
      "metadata": {
        "id": "ZiYFOY41dCYO"
      },
      "execution_count": null,
      "outputs": []
    },
    {
      "cell_type": "code",
      "execution_count": null,
      "metadata": {
        "id": "p7nakpDQKDVs"
      },
      "outputs": [],
      "source": [
        "# def generate_features(df):\n",
        "    \"\"\"\n",
        "    Generate features for a stock/index based on historical price and performance\n",
        "    @param df: dataframe with columns \"Open\", \"Close\", \"High\", \"Low\", \"Volume\", \"Adjusted Close\"\n",
        "    @return: dataframe, data set with new features\n",
        "    \"\"\"\n",
        "    df_new = pd.DataFrame()\n",
        "    # 6 original features\n",
        "    #df_new['Date'] = df['Date']\n",
        "    df_new['open'] = df['open']\n",
        "    df_new['open_1'] = df['open'].shift(1)\n",
        "    df_new['close_1'] = df['close'].shift(1)\n",
        "    df_new['high_1'] = df['high'].shift(1)\n",
        "    df_new['low_1'] = df['low'].shift(1)\n",
        "    df_new['volume_1'] = df['volume'].shift(1)\n",
        "    # 31 generated features\n",
        "    # average price\n",
        "    df_new['avg_price_5'] = df['close'].rolling(5).mean().shift(1)\n",
        "    df_new['avg_price_30'] = df['close'].rolling(21).mean().shift(1)\n",
        "    df_new['avg_price_365'] = df['close'].rolling(252).mean().shift(1)\n",
        "    df_new['ratio_avg_price_5_30'] = df_new['avg_price_5'] / df_new['avg_price_30']\n",
        "    df_new['ratio_avg_price_5_365'] = df_new['avg_price_5'] / df_new['avg_price_365']\n",
        "    df_new['ratio_avg_price_30_365'] = df_new['avg_price_30'] / df_new['avg_price_365']\n",
        "    # average volume\n",
        "    df_new['avg_volume_5'] = df['volume'].rolling(5).mean().shift(1)\n",
        "    df_new['avg_volume_30'] = df['volume'].rolling(21).mean().shift(1)\n",
        "    df_new['avg_volume_365'] = df['volume'].rolling(252).mean().shift(1)\n",
        "    df_new['ratio_avg_volume_5_30'] = df_new['avg_volume_5'] / df_new['avg_volume_30']\n",
        "    df_new['ratio_avg_volume_5_365'] = df_new['avg_volume_5'] / df_new['avg_volume_365']\n",
        "    df_new['ratio_avg_volume_30_365'] = df_new['avg_volume_30'] / df_new['avg_volume_365']\n",
        "    # standard deviation of prices\n",
        "    df_new['std_price_5'] = df['close'].rolling(5).std().shift(1)\n",
        "    df_new['std_price_30'] = df['close'].rolling(21).std().shift(1)\n",
        "    df_new['std_price_365'] = df['close'].rolling(252).std().shift(1)\n",
        "    df_new['ratio_std_price_5_30'] = df_new['std_price_5'] / df_new['std_price_30']\n",
        "    df_new['ratio_std_price_5_365'] = df_new['std_price_5'] / df_new['std_price_365']\n",
        "    df_new['ratio_std_price_30_365'] = df_new['std_price_30'] / df_new['std_price_365']\n",
        "    # standard deviation of volumes\n",
        "    df_new['std_volume_5'] = df['volume'].rolling(5).std().shift(1)\n",
        "    df_new['std_volume_30'] = df['volume'].rolling(21).std().shift(1)\n",
        "    df_new['std_volume_365'] = df['volume'].rolling(252).std().shift(1)\n",
        "    df_new['ratio_std_volume_5_30'] = df_new['std_volume_5'] / df_new['std_volume_30']\n",
        "    df_new['ratio_std_volume_5_365'] = df_new['std_volume_5'] / df_new['std_volume_365']\n",
        "    df_new['ratio_std_volume_30_365'] = df_new['std_volume_30'] / df_new['std_volume_365']\n",
        "    # # return\n",
        "    df_new['return_1'] = ((df['close'] - df['close'].shift(1)) / df['close'].shift(1)).shift(1)\n",
        "    df_new['return_5'] = ((df['close'] - df['close'].shift(5)) / df['close'].shift(5)).shift(1)\n",
        "    df_new['return_30'] = ((df['close'] - df['close'].shift(21)) / df['close'].shift(21)).shift(1)\n",
        "    df_new['return_365'] = ((df['close'] - df['close'].shift(252)) / df['close'].shift(252)).shift(1)\n",
        "    df_new['moving_avg_5'] = df_new['return_1'].rolling(5).mean().shift(1)\n",
        "    df_new['moving_avg_30'] = df_new['return_1'].rolling(21).mean().shift(1)\n",
        "    df_new['moving_avg_365'] = df_new['return_1'].rolling(252).mean().shift(1)\n",
        "    # the target\n",
        "    df_new['close'] = df['close']\n",
        "    df_new = df_new.dropna(axis=0)\n",
        "    return df_new\n",
        "\n",
        "#df = pd.read_csv(\"19880101_20161231.csv\", index_col='Date')\n",
        "#df = pd.read_csv('concrete.csv')\n",
        "\n",
        "\n",
        "data = generate_features(df)\n",
        "\n",
        "print(data.head(500))"
      ]
    },
    {
      "cell_type": "code",
      "source": [
        "data = pd.read_csv('concrete.csv')"
      ],
      "metadata": {
        "id": "W0Ue2NM744Jq"
      },
      "execution_count": null,
      "outputs": []
    },
    {
      "cell_type": "markdown",
      "source": [
        "**Prediction of concrete strength based on composition of composition and statistical data based on RNN + LSTM**"
      ],
      "metadata": {
        "id": "3URKIN3eE67t"
      }
    },
    {
      "cell_type": "markdown",
      "source": [],
      "metadata": {
        "id": "4CoqWNsPE_JR"
      }
    },
    {
      "cell_type": "code",
      "execution_count": null,
      "metadata": {
        "colab": {
          "base_uri": "https://localhost:8080/"
        },
        "id": "eBuRAbfe3uJF",
        "outputId": "a7946267-524e-4a42-cae3-1eccd61b8a4a"
      },
      "outputs": [
        {
          "output_type": "stream",
          "name": "stdout",
          "text": [
            "      cement   slag    ash  water  ...  coarseagg  fineagg  age  strength\n",
            "0      141.3  212.0    0.0  203.5  ...      971.8    748.5   28     29.89\n",
            "1      168.9   42.2  124.3  158.3  ...     1080.8    796.2   14     23.51\n",
            "2      250.0    0.0   95.7  187.4  ...      956.9    861.2   28     29.22\n",
            "3      266.0  114.0    0.0  228.0  ...      932.0    670.0   28     45.85\n",
            "4      154.8  183.4    0.0  193.3  ...     1047.4    696.7   28     18.29\n",
            "...      ...    ...    ...    ...  ...        ...      ...  ...       ...\n",
            "1025   135.0    0.0  166.0  180.0  ...      961.0    805.0   28     13.29\n",
            "1026   531.3    0.0    0.0  141.8  ...      852.1    893.7    3     41.30\n",
            "1027   276.4  116.0   90.3  179.6  ...      870.1    768.3   28     44.28\n",
            "1028   342.0   38.0    0.0  228.0  ...      932.0    670.0  270     55.06\n",
            "1029   540.0    0.0    0.0  173.0  ...     1125.0    613.0    7     52.61\n",
            "\n",
            "[1030 rows x 9 columns]\n"
          ]
        }
      ],
      "source": [
        "#print(data)\n",
        "print(data)"
      ]
    },
    {
      "cell_type": "code",
      "execution_count": null,
      "metadata": {
        "id": "Sq1t1y1O3uZF"
      },
      "outputs": [],
      "source": [
        "start_train = int(0)\n",
        "end_train = int(773)\n",
        "\n",
        "start_test = int(774)\n",
        "end_test = int(1030)"
      ]
    },
    {
      "cell_type": "code",
      "source": [],
      "metadata": {
        "id": "P-7DiveO7f4J"
      },
      "execution_count": null,
      "outputs": []
    },
    {
      "cell_type": "code",
      "execution_count": null,
      "metadata": {
        "id": "VRge3vVx3uc9"
      },
      "outputs": [],
      "source": [
        "data_train = data.loc[start_train:end_train]\n",
        "X_train = data_train.drop('strength', axis=1).values\n",
        "y_train = data_train['strength'].values\n",
        "\n",
        "\n",
        "data_test = data.loc[start_test:end_test]\n",
        "X_test = data_test.drop('strength', axis=1).values\n",
        "y_test = data_test['strength'].values"
      ]
    },
    {
      "cell_type": "code",
      "execution_count": null,
      "metadata": {
        "colab": {
          "base_uri": "https://localhost:8080/"
        },
        "id": "w2sMszon3_-f",
        "outputId": "cb948e5a-7bc5-449b-f89c-4f82901357ff"
      },
      "outputs": [
        {
          "output_type": "execute_result",
          "data": {
            "text/plain": [
              "array([29.89, 23.51, 29.22, 45.85, 18.29, 21.86, 15.75, 36.64, 21.65,\n",
              "       28.99, 36.35,  6.94, 27.92, 26.26, 23.89, 49.97, 30.08, 44.86,\n",
              "       15.04, 25.1 , 13.36, 21.92, 20.42, 33.3 , 31.74, 45.3 , 49.19,\n",
              "       65.2 , 21.54, 33.8 , 32.04, 39.29, 23.74, 44.52, 37.91, 39.16,\n",
              "       16.88, 47.71, 17.54, 41.41, 24.28, 60.32, 37.42, 23.52, 59.2 ,\n",
              "       61.46, 17.2 , 40.68, 49.9 , 33.4 , 49.25, 39.  , 37.27, 39.3 ,\n",
              "       38.22, 20.28, 48.67, 34.57, 35.23, 42.35, 20.73, 10.38, 37.34,\n",
              "       54.9 , 41.05, 29.98, 28.63, 44.3 , 52.04, 49.8 , 11.41, 50.46,\n",
              "       28.1 , 26.92, 45.08, 36.94, 24.13, 19.42, 27.42, 39.15, 28.47,\n",
              "       31.02, 31.25, 43.06, 12.84, 32.24, 67.57, 26.31, 35.3 , 23.8 ,\n",
              "       14.59, 55.9 , 21.5 , 41.84,  4.9 , 57.23, 71.3 , 33.4 , 33.4 ,\n",
              "       36.25, 32.96, 61.89, 36.8 , 53.1 , 11.98, 23.85,  9.74, 14.5 ,\n",
              "       12.18, 38.63, 55.65, 12.05, 27.68, 31.35, 18.13, 12.79, 37.36,\n",
              "       39.4 , 29.45, 33.36, 16.26, 39.64, 23.79, 45.94, 61.07, 31.03,\n",
              "       33.19, 21.86, 74.7 , 62.5 , 27.77, 31.88,  9.99, 25.08, 13.22,\n",
              "       56.34, 43.57, 46.68,  6.88, 30.65, 33.72, 30.39, 37.72, 42.8 ,\n",
              "       26.74, 32.53, 33.21, 55.51, 46.68, 41.15, 29.59, 32.84, 29.59,\n",
              "       33.01, 11.47, 23.84, 56.4 , 44.3 , 22.35, 55.26, 31.45, 67.7 ,\n",
              "       18.13, 60.28, 33.4 , 17.24, 44.42, 37.68, 35.34, 52.42, 57.03,\n",
              "       48.59, 12.47, 44.28, 48.85, 17.58, 10.03, 40.6 , 43.38, 14.2 ,\n",
              "       24.48, 59.49, 63.4 ,  7.68,  9.85, 22.53, 32.88, 13.71, 60.95,\n",
              "       44.87, 77.3 , 61.99, 81.75, 30.88, 23.79, 22.44, 26.77, 68.1 ,\n",
              "       52.91, 32.33, 33.95, 39.46, 25.45, 45.84, 18.03, 24.29, 29.07,\n",
              "       46.93, 59.89, 39.49, 22.93, 39.  , 52.2 , 19.52, 37.36, 26.97,\n",
              "       66.42, 11.96, 14.7 , 13.62, 26.94, 23.64, 35.34, 24.  , 25.75,\n",
              "       36.8 , 51.72, 29.87, 35.76, 64.9 ,  2.33, 18.02, 69.3 , 27.83,\n",
              "       50.51,  6.47, 18.  ,  9.73, 24.58, 71.7 , 41.05, 41.54, 26.2 ,\n",
              "       52.43, 48.79, 79.3 ,  3.32, 40.15, 12.25, 29.23, 40.23, 34.74,\n",
              "       26.86, 31.35, 33.27, 20.77, 67.11, 79.4 , 42.29, 37.8 , 49.77,\n",
              "       17.24, 51.73, 28.63, 65.91, 15.62, 61.23, 32.72, 13.66, 36.97,\n",
              "       55.16, 12.46, 40.86, 74.5 , 33.76, 55.64, 37.91, 43.58, 33.4 ,\n",
              "       66.  , 41.64, 43.94, 37.42, 42.23, 29.72, 51.86, 64.9 , 12.37,\n",
              "       26.23, 39.38, 17.54, 52.91, 70.7 , 56.83, 26.91, 17.6 , 37.4 ,\n",
              "       42.13, 33.4 ,  9.13, 37.92, 51.04, 52.12, 45.9 , 26.86, 22.44,\n",
              "       38.07, 55.55, 34.67, 15.42, 42.22, 19.77, 24.1 , 74.17, 14.8 ,\n",
              "       13.46, 30.22, 22.14, 51.06, 31.84, 64.02, 31.54, 34.4 , 44.7 ,\n",
              "       17.96, 40.39, 25.62, 32.66, 16.89, 47.81, 31.81, 33.42,  7.32,\n",
              "       19.69, 28.3 , 31.35, 52.96, 76.8 , 29.87, 47.78, 33.73, 45.37,\n",
              "       42.03, 32.63, 37.27, 46.24, 53.52, 50.73, 51.26, 40.86, 32.1 ,\n",
              "       17.37, 37.81, 40.93,  7.51, 52.5 , 29.07,  8.06, 24.92, 42.62,\n",
              "       23.69, 33.7 , 11.17, 46.25, 54.32, 26.32, 42.7 , 17.34, 19.42,\n",
              "       33.69, 48.7 , 31.64, 35.85, 50.7 , 25.97,  4.83, 35.17, 32.07,\n",
              "        9.74, 43.89, 28.02, 25.72,  9.01, 65.91, 21.95, 43.38, 47.13,\n",
              "       35.96, 15.69, 32.76, 25.46, 10.73, 49.2 , 56.14, 23.08, 56.62,\n",
              "       55.5 , 30.12, 39.42, 33.09, 35.3 , 39.36, 37.43, 45.3 , 15.52,\n",
              "       41.68, 31.35,  4.57, 54.6 , 24.05, 31.42, 58.61, 65.7 , 10.76,\n",
              "       53.52, 57.22, 41.68, 17.28, 57.6 , 54.28, 35.3 , 13.29, 13.82,\n",
              "       44.52, 27.74, 74.19, 42.92, 17.22, 51.33,  6.9 , 15.82, 61.09,\n",
              "       24.24, 60.29, 39.38, 48.4 , 53.39, 23.84, 17.84,  8.2 , 38.77,\n",
              "       37.44, 35.75, 31.72, 33.04, 40.56, 55.02, 45.7 , 41.24, 43.57,\n",
              "       37.26, 64.9 , 74.99, 56.14, 21.18, 38.  , 50.53, 25.37, 43.7 ,\n",
              "       28.99, 32.72, 44.33, 39.23, 77.3 , 32.05, 43.7 , 39.3 , 33.72,\n",
              "       19.69, 71.99, 12.45, 26.92, 38.8 , 66.78, 40.87, 11.47, 73.3 ,\n",
              "       41.54, 21.06, 50.94, 40.06, 42.14, 65.2 , 25.12, 39.  , 27.87,\n",
              "       37.43, 39.84, 44.14, 64.3 , 33.49, 76.24, 10.54, 79.3 , 30.45,\n",
              "       13.54, 46.23, 36.99, 31.97, 52.82, 49.99, 31.65, 12.64, 22.9 ,\n",
              "       29.  , 24.  , 78.8 , 33.94, 39.7 ,  8.37, 25.2 , 25.18, 38.46,\n",
              "       15.09, 51.96, 15.44, 19.54, 64.3 , 33.69, 40.66, 24.39, 35.87,\n",
              "       51.02, 14.54, 58.52, 71.3 , 26.06, 65.2 , 32.4 , 68.75, 33.12,\n",
              "       19.2 , 72.99, 50.77, 48.99, 19.93, 24.43, 47.97, 46.9 , 50.95,\n",
              "       58.78, 29.16,  6.81, 46.2 , 18.03, 72.1 , 37.43, 15.03, 19.77,\n",
              "       43.73,  6.28, 49.77, 31.97, 47.1 , 27.66, 27.94, 47.22, 32.9 ,\n",
              "       13.33, 47.4 , 25.56, 24.28, 42.42, 25.57, 39.7 , 43.5 , 26.14,\n",
              "       18.28, 13.12, 72.3 , 50.66, 33.66, 44.03, 23.25, 55.25, 66.7 ,\n",
              "       55.9 , 60.29, 40.57, 30.57, 44.21, 61.92, 42.55, 32.96, 60.2 ,\n",
              "       56.06, 36.56,  7.75, 33.05, 32.25, 45.37, 25.18, 10.34, 74.36,\n",
              "       36.45, 13.52, 28.94, 24.9 , 53.72, 13.2 , 11.36, 38.89, 15.42,\n",
              "       21.82, 77.3 , 32.4 , 14.14, 33.54, 69.84, 38.6 , 40.86, 56.1 ,\n",
              "       19.11, 30.23, 61.86, 59.59, 55.2 , 14.84, 38.33, 27.04, 39.78,\n",
              "       15.52, 40.76, 53.3 , 42.13, 47.74, 43.25, 25.51, 18.91, 31.18,\n",
              "       29.93, 35.36, 54.38, 11.85, 52.3 , 57.21, 14.2 , 23.52,  8.  ,\n",
              "       39.3 , 54.1 , 14.31, 41.72, 40.71, 29.55, 18.75, 33.8 , 31.18,\n",
              "       39.42, 24.4 ,  8.49, 26.4 , 38.6 , 66.95, 55.55, 12.54, 39.94,\n",
              "       23.52, 55.94, 12.73, 39.27, 59.76, 24.85, 36.84, 11.39, 28.63,\n",
              "       27.92,  9.31, 22.72, 10.54, 23.14, 11.65, 31.9 ,  7.84, 25.22,\n",
              "       20.08, 46.8 , 39.59, 13.4 , 15.05, 36.35, 35.31, 15.07, 12.18,\n",
              "       29.41, 24.45, 26.15, 48.15, 47.03, 33.96, 33.61, 32.82, 15.57,\n",
              "       16.28, 38.5 ,  9.87, 34.49, 37.92, 11.48, 68.3 , 24.54,  9.62,\n",
              "       36.44, 14.99,  9.69, 10.35, 26.05, 37.23, 25.18, 53.77, 39.06,\n",
              "       43.8 , 42.64, 53.69, 34.29, 33.42, 27.34,  7.4 , 21.16, 21.78,\n",
              "       43.7 , 51.04, 30.85, 53.46, 22.49, 44.09, 33.  , 10.22, 13.09,\n",
              "       39.32, 50.08,  9.45, 79.99, 79.3 , 52.2 , 14.6 , 20.59, 37.81,\n",
              "       71.3 , 25.73, 35.23, 69.66, 18.2 , 15.57, 54.9 , 48.97, 56.81,\n",
              "       19.35, 18.42, 21.48, 47.28, 21.07, 50.6 , 38.02, 29.79, 42.13,\n",
              "       15.61, 29.65, 43.39, 21.91, 48.28, 43.58, 22.75, 33.8 , 13.46,\n",
              "       19.99, 79.3 , 41.05, 36.96, 39.05, 33.06, 31.12, 20.92, 30.14])"
            ]
          },
          "metadata": {},
          "execution_count": 7
        }
      ],
      "source": [
        "y_train"
      ]
    },
    {
      "cell_type": "code",
      "execution_count": null,
      "metadata": {
        "id": "f5CEJF3B4AO3"
      },
      "outputs": [],
      "source": [
        "from sklearn.preprocessing import StandardScaler\n",
        "scaler = StandardScaler()\n",
        "\n",
        "X_scaled_train = scaler.fit_transform(X_train)\n",
        "X_scaled_test = scaler.transform(X_test)"
      ]
    },
    {
      "cell_type": "code",
      "source": [
        "#X_scaled_test"
      ],
      "metadata": {
        "id": "r6ecZ8p18Aly"
      },
      "execution_count": null,
      "outputs": []
    },
    {
      "cell_type": "code",
      "execution_count": null,
      "metadata": {
        "id": "0K6RnyuD4AR_"
      },
      "outputs": [],
      "source": [
        "import tensorflow as tf\n",
        "from tensorflow import keras\n",
        "#from tensorflow.keras import layers\n",
        "\n",
        "tf.random.set_seed(42)\n",
        "model = keras.Sequential([\n",
        "    keras.layers.Dense(units=64, activation='relu'),\n",
        "    keras.layers.Dense(units=64, activation='relu'),\n",
        "    #keras.layers.Dense(units=32, activation='relu'),\n",
        "    #tf.keras.layers.Dropout(0.5),\n",
        "    keras.layers.Dense(units=1)\n",
        "])"
      ]
    },
    {
      "cell_type": "code",
      "source": [],
      "metadata": {
        "id": "7uJEqbJkl4gq"
      },
      "execution_count": null,
      "outputs": []
    },
    {
      "cell_type": "code",
      "source": [
        "model = tf.keras.models.load_model('keras_model.h5')\n",
        "\n",
        "# Check its architecture\n",
        "model.summary()"
      ],
      "metadata": {
        "id": "LU7Qg5_ml4sq"
      },
      "execution_count": null,
      "outputs": []
    },
    {
      "cell_type": "code",
      "execution_count": null,
      "metadata": {
        "colab": {
          "base_uri": "https://localhost:8080/"
        },
        "id": "T3CqT1Db4AUt",
        "outputId": "5062d47c-a1b7-4ada-c7a9-3099b3472252"
      },
      "outputs": [
        {
          "output_type": "stream",
          "name": "stdout",
          "text": [
            "Epoch 1/100\n",
            "25/25 [==============================] - 1s 2ms/step - loss: 423.2751\n",
            "Epoch 2/100\n",
            "25/25 [==============================] - 0s 2ms/step - loss: 160.0874\n",
            "Epoch 3/100\n",
            "25/25 [==============================] - 0s 2ms/step - loss: 207.8285\n",
            "Epoch 4/100\n",
            "25/25 [==============================] - 0s 3ms/step - loss: 120.7326\n",
            "Epoch 5/100\n",
            "25/25 [==============================] - 0s 2ms/step - loss: 78.1955\n",
            "Epoch 6/100\n",
            "25/25 [==============================] - 0s 2ms/step - loss: 69.6479\n",
            "Epoch 7/100\n",
            "25/25 [==============================] - 0s 2ms/step - loss: 75.9505\n",
            "Epoch 8/100\n",
            "25/25 [==============================] - 0s 2ms/step - loss: 50.6774\n",
            "Epoch 9/100\n",
            "25/25 [==============================] - 0s 3ms/step - loss: 41.9855\n",
            "Epoch 10/100\n",
            "25/25 [==============================] - 0s 2ms/step - loss: 45.7637\n",
            "Epoch 11/100\n",
            "25/25 [==============================] - 0s 2ms/step - loss: 55.8692\n",
            "Epoch 12/100\n",
            "25/25 [==============================] - 0s 2ms/step - loss: 59.5942\n",
            "Epoch 13/100\n",
            "25/25 [==============================] - 0s 2ms/step - loss: 41.6791\n",
            "Epoch 14/100\n",
            "25/25 [==============================] - 0s 2ms/step - loss: 38.6674\n",
            "Epoch 15/100\n",
            "25/25 [==============================] - 0s 2ms/step - loss: 40.9069\n",
            "Epoch 16/100\n",
            "25/25 [==============================] - 0s 2ms/step - loss: 32.8048\n",
            "Epoch 17/100\n",
            "25/25 [==============================] - 0s 2ms/step - loss: 35.3580\n",
            "Epoch 18/100\n",
            "25/25 [==============================] - 0s 2ms/step - loss: 33.2565\n",
            "Epoch 19/100\n",
            "25/25 [==============================] - 0s 2ms/step - loss: 29.2303\n",
            "Epoch 20/100\n",
            "25/25 [==============================] - 0s 2ms/step - loss: 31.7160\n",
            "Epoch 21/100\n",
            "25/25 [==============================] - 0s 2ms/step - loss: 32.5275\n",
            "Epoch 22/100\n",
            "25/25 [==============================] - 0s 2ms/step - loss: 38.1921\n",
            "Epoch 23/100\n",
            "25/25 [==============================] - 0s 2ms/step - loss: 32.5263\n",
            "Epoch 24/100\n",
            "25/25 [==============================] - 0s 2ms/step - loss: 41.5139\n",
            "Epoch 25/100\n",
            "25/25 [==============================] - 0s 2ms/step - loss: 39.5687\n",
            "Epoch 26/100\n",
            "25/25 [==============================] - 0s 3ms/step - loss: 27.4089\n",
            "Epoch 27/100\n",
            "25/25 [==============================] - 0s 2ms/step - loss: 36.2370\n",
            "Epoch 28/100\n",
            "25/25 [==============================] - 0s 2ms/step - loss: 33.2541\n",
            "Epoch 29/100\n",
            "25/25 [==============================] - 0s 2ms/step - loss: 28.6130\n",
            "Epoch 30/100\n",
            "25/25 [==============================] - 0s 2ms/step - loss: 33.0439\n",
            "Epoch 31/100\n",
            "25/25 [==============================] - 0s 2ms/step - loss: 29.4076\n",
            "Epoch 32/100\n",
            "25/25 [==============================] - 0s 2ms/step - loss: 26.3393\n",
            "Epoch 33/100\n",
            "25/25 [==============================] - 0s 2ms/step - loss: 32.0256\n",
            "Epoch 34/100\n",
            "25/25 [==============================] - 0s 2ms/step - loss: 28.4356\n",
            "Epoch 35/100\n",
            "25/25 [==============================] - 0s 2ms/step - loss: 21.9034\n",
            "Epoch 36/100\n",
            "25/25 [==============================] - 0s 2ms/step - loss: 24.5537\n",
            "Epoch 37/100\n",
            "25/25 [==============================] - 0s 2ms/step - loss: 26.2037\n",
            "Epoch 38/100\n",
            "25/25 [==============================] - 0s 2ms/step - loss: 28.3143\n",
            "Epoch 39/100\n",
            "25/25 [==============================] - 0s 2ms/step - loss: 22.8802\n",
            "Epoch 40/100\n",
            "25/25 [==============================] - 0s 2ms/step - loss: 21.2815\n",
            "Epoch 41/100\n",
            "25/25 [==============================] - 0s 2ms/step - loss: 22.7847\n",
            "Epoch 42/100\n",
            "25/25 [==============================] - 0s 3ms/step - loss: 24.5424\n",
            "Epoch 43/100\n",
            "25/25 [==============================] - 0s 2ms/step - loss: 25.9559\n",
            "Epoch 44/100\n",
            "25/25 [==============================] - 0s 2ms/step - loss: 24.6383\n",
            "Epoch 45/100\n",
            "25/25 [==============================] - 0s 2ms/step - loss: 24.6293\n",
            "Epoch 46/100\n",
            "25/25 [==============================] - 0s 2ms/step - loss: 20.9453\n",
            "Epoch 47/100\n",
            "25/25 [==============================] - 0s 2ms/step - loss: 30.6167\n",
            "Epoch 48/100\n",
            "25/25 [==============================] - 0s 2ms/step - loss: 26.8109\n",
            "Epoch 49/100\n",
            "25/25 [==============================] - 0s 2ms/step - loss: 29.2086\n",
            "Epoch 50/100\n",
            "25/25 [==============================] - 0s 2ms/step - loss: 40.6674\n",
            "Epoch 51/100\n",
            "25/25 [==============================] - 0s 3ms/step - loss: 29.3415\n",
            "Epoch 52/100\n",
            "25/25 [==============================] - 0s 2ms/step - loss: 23.3246\n",
            "Epoch 53/100\n",
            "25/25 [==============================] - 0s 3ms/step - loss: 22.5429\n",
            "Epoch 54/100\n",
            "25/25 [==============================] - 0s 3ms/step - loss: 22.2564\n",
            "Epoch 55/100\n",
            "25/25 [==============================] - 0s 2ms/step - loss: 23.4545\n",
            "Epoch 56/100\n",
            "25/25 [==============================] - 0s 2ms/step - loss: 20.1048\n",
            "Epoch 57/100\n",
            "25/25 [==============================] - 0s 2ms/step - loss: 18.5948\n",
            "Epoch 58/100\n",
            "25/25 [==============================] - 0s 2ms/step - loss: 18.3478\n",
            "Epoch 59/100\n",
            "25/25 [==============================] - 0s 2ms/step - loss: 20.2696\n",
            "Epoch 60/100\n",
            "25/25 [==============================] - 0s 3ms/step - loss: 20.4482\n",
            "Epoch 61/100\n",
            "25/25 [==============================] - 0s 2ms/step - loss: 27.1419\n",
            "Epoch 62/100\n",
            "25/25 [==============================] - 0s 2ms/step - loss: 22.8364\n",
            "Epoch 63/100\n",
            "25/25 [==============================] - 0s 3ms/step - loss: 21.5627\n",
            "Epoch 64/100\n",
            "25/25 [==============================] - 0s 2ms/step - loss: 17.5900\n",
            "Epoch 65/100\n",
            "25/25 [==============================] - 0s 2ms/step - loss: 18.0758\n",
            "Epoch 66/100\n",
            "25/25 [==============================] - 0s 2ms/step - loss: 20.3693\n",
            "Epoch 67/100\n",
            "25/25 [==============================] - 0s 2ms/step - loss: 21.0092\n",
            "Epoch 68/100\n",
            "25/25 [==============================] - 0s 2ms/step - loss: 25.2564\n",
            "Epoch 69/100\n",
            "25/25 [==============================] - 0s 2ms/step - loss: 21.6508\n",
            "Epoch 70/100\n",
            "25/25 [==============================] - 0s 2ms/step - loss: 36.2502\n",
            "Epoch 71/100\n",
            "25/25 [==============================] - 0s 2ms/step - loss: 31.7616\n",
            "Epoch 72/100\n",
            "25/25 [==============================] - 0s 2ms/step - loss: 27.1418\n",
            "Epoch 73/100\n",
            "25/25 [==============================] - 0s 2ms/step - loss: 21.7003\n",
            "Epoch 74/100\n",
            "25/25 [==============================] - 0s 2ms/step - loss: 18.2492\n",
            "Epoch 75/100\n",
            "25/25 [==============================] - 0s 2ms/step - loss: 18.9939\n",
            "Epoch 76/100\n",
            "25/25 [==============================] - 0s 2ms/step - loss: 17.0056\n",
            "Epoch 77/100\n",
            "25/25 [==============================] - 0s 3ms/step - loss: 16.7491\n",
            "Epoch 78/100\n",
            "25/25 [==============================] - 0s 2ms/step - loss: 16.1041\n",
            "Epoch 79/100\n",
            "25/25 [==============================] - 0s 2ms/step - loss: 16.7082\n",
            "Epoch 80/100\n",
            "25/25 [==============================] - 0s 2ms/step - loss: 18.8674\n",
            "Epoch 81/100\n",
            "25/25 [==============================] - 0s 2ms/step - loss: 24.3339\n",
            "Epoch 82/100\n",
            "25/25 [==============================] - 0s 2ms/step - loss: 22.2372\n",
            "Epoch 83/100\n",
            "25/25 [==============================] - 0s 2ms/step - loss: 20.4281\n",
            "Epoch 84/100\n",
            "25/25 [==============================] - 0s 2ms/step - loss: 21.4748\n",
            "Epoch 85/100\n",
            "25/25 [==============================] - 0s 3ms/step - loss: 17.1952\n",
            "Epoch 86/100\n",
            "25/25 [==============================] - 0s 2ms/step - loss: 18.8093\n",
            "Epoch 87/100\n",
            "25/25 [==============================] - 0s 2ms/step - loss: 25.8812\n",
            "Epoch 88/100\n",
            "25/25 [==============================] - 0s 2ms/step - loss: 20.3296\n",
            "Epoch 89/100\n",
            "25/25 [==============================] - 0s 2ms/step - loss: 18.5636\n",
            "Epoch 90/100\n",
            "25/25 [==============================] - 0s 2ms/step - loss: 18.4004\n",
            "Epoch 91/100\n",
            "25/25 [==============================] - 0s 2ms/step - loss: 19.6989\n",
            "Epoch 92/100\n",
            "25/25 [==============================] - 0s 2ms/step - loss: 19.5932\n",
            "Epoch 93/100\n",
            "25/25 [==============================] - 0s 3ms/step - loss: 18.1739\n",
            "Epoch 94/100\n",
            "25/25 [==============================] - 0s 2ms/step - loss: 15.2768\n",
            "Epoch 95/100\n",
            "25/25 [==============================] - 0s 3ms/step - loss: 16.2247\n",
            "Epoch 96/100\n",
            "25/25 [==============================] - 0s 2ms/step - loss: 18.2889\n",
            "Epoch 97/100\n",
            "25/25 [==============================] - 0s 2ms/step - loss: 14.1102\n",
            "Epoch 98/100\n",
            "25/25 [==============================] - 0s 2ms/step - loss: 13.6621\n",
            "Epoch 99/100\n",
            "25/25 [==============================] - 0s 3ms/step - loss: 14.8110\n",
            "Epoch 100/100\n",
            "25/25 [==============================] - 0s 2ms/step - loss: 14.3299\n"
          ]
        },
        {
          "output_type": "execute_result",
          "data": {
            "text/plain": [
              "<keras.callbacks.History at 0x7efdeb6d9e10>"
            ]
          },
          "metadata": {},
          "execution_count": 11
        }
      ],
      "source": [
        "model.compile(loss='mean_squared_error',optimizer=tf.keras.optimizers.Adam(0.07))\n",
        "\n",
        "model.fit(X_scaled_train, y_train, epochs=100, verbose=True)"
      ]
    },
    {
      "cell_type": "code",
      "execution_count": null,
      "metadata": {
        "id": "e6UUnRUf4AXV"
      },
      "outputs": [],
      "source": [
        "predictions1 = model.predict(X_scaled_test)[:, 0]"
      ]
    },
    {
      "cell_type": "code",
      "execution_count": null,
      "metadata": {
        "colab": {
          "base_uri": "https://localhost:8080/"
        },
        "id": "BPYmmJnn8gXI",
        "outputId": "914a23d5-90b1-4a56-e239-1e3c23c35edd"
      },
      "outputs": [
        {
          "output_type": "stream",
          "name": "stdout",
          "text": [
            "MSE: 32.167\n",
            "MAE: 4.188\n",
            "R^2: 0.878\n"
          ]
        }
      ],
      "source": [
        "from sklearn.metrics import mean_squared_error, mean_absolute_error, r2_score\n",
        "print(f'MSE: {mean_squared_error(y_test, predictions1):.3f}')\n",
        "print(f'MAE: {mean_absolute_error(y_test, predictions1):.3f}')\n",
        "print(f'R^2: {r2_score(y_test, predictions1):.3f}')"
      ]
    },
    {
      "cell_type": "code",
      "execution_count": null,
      "metadata": {
        "id": "eMYSU-HP8ggG"
      },
      "outputs": [],
      "source": [
        "from tensorboard.plugins.hparams import api as hp\n",
        "HP_HIDDEN = hp.HParam('hidden_size', hp.Discrete([64, 32, 16]))\n",
        "HP_EPOCHS = hp.HParam('epochs', hp.Discrete([300, 1000]))\n",
        "HP_LEARNING_RATE = hp.HParam('learning_rate', hp.RealInterval(0.01, 0.4))"
      ]
    },
    {
      "cell_type": "code",
      "execution_count": null,
      "metadata": {
        "colab": {
          "base_uri": "https://localhost:8080/"
        },
        "id": "_0phaiOF8giY",
        "outputId": "66f9645b-0cd5-4998-f2da-71c11758e626"
      },
      "outputs": [
        {
          "output_type": "stream",
          "name": "stdout",
          "text": [
            "--- Starting trial: run-0\n",
            "{'hidden_size': 16, 'epochs': 300, 'learning_rate': 0.01}\n",
            "8/8 [==============================] - 0s 2ms/step - loss: 74.0200 - mean_squared_error: 74.0200\n",
            "--- Starting trial: run-1\n",
            "{'hidden_size': 16, 'epochs': 300, 'learning_rate': 0.11}\n",
            "8/8 [==============================] - 0s 2ms/step - loss: 109.0901 - mean_squared_error: 109.0901\n",
            "--- Starting trial: run-2\n",
            "{'hidden_size': 16, 'epochs': 300, 'learning_rate': 0.21}\n",
            "8/8 [==============================] - 0s 3ms/step - loss: 82.9389 - mean_squared_error: 82.9389\n",
            "--- Starting trial: run-3\n",
            "{'hidden_size': 16, 'epochs': 300, 'learning_rate': 0.3}\n",
            "8/8 [==============================] - 0s 2ms/step - loss: 96.4128 - mean_squared_error: 96.4128\n",
            "--- Starting trial: run-4\n",
            "{'hidden_size': 16, 'epochs': 300, 'learning_rate': 0.4}\n",
            "8/8 [==============================] - 0s 2ms/step - loss: 118.3920 - mean_squared_error: 118.3920\n",
            "--- Starting trial: run-5\n",
            "{'hidden_size': 16, 'epochs': 1000, 'learning_rate': 0.01}\n",
            "8/8 [==============================] - 0s 2ms/step - loss: 83.5823 - mean_squared_error: 83.5823\n",
            "--- Starting trial: run-6\n",
            "{'hidden_size': 16, 'epochs': 1000, 'learning_rate': 0.11}\n",
            "8/8 [==============================] - 0s 2ms/step - loss: 89.9495 - mean_squared_error: 89.9495\n",
            "--- Starting trial: run-7\n",
            "{'hidden_size': 16, 'epochs': 1000, 'learning_rate': 0.21}\n",
            "8/8 [==============================] - 0s 2ms/step - loss: 69.6757 - mean_squared_error: 69.6757\n",
            "--- Starting trial: run-8\n",
            "{'hidden_size': 16, 'epochs': 1000, 'learning_rate': 0.3}\n",
            "8/8 [==============================] - 0s 2ms/step - loss: 85.6789 - mean_squared_error: 85.6789\n",
            "--- Starting trial: run-9\n",
            "{'hidden_size': 16, 'epochs': 1000, 'learning_rate': 0.4}\n",
            "8/8 [==============================] - 0s 2ms/step - loss: 103.0436 - mean_squared_error: 103.0436\n",
            "--- Starting trial: run-10\n",
            "{'hidden_size': 32, 'epochs': 300, 'learning_rate': 0.01}\n",
            "8/8 [==============================] - 0s 2ms/step - loss: 65.8719 - mean_squared_error: 65.8719\n",
            "--- Starting trial: run-11\n",
            "{'hidden_size': 32, 'epochs': 300, 'learning_rate': 0.11}\n",
            "8/8 [==============================] - 0s 2ms/step - loss: 64.4600 - mean_squared_error: 64.4600\n",
            "--- Starting trial: run-12\n",
            "{'hidden_size': 32, 'epochs': 300, 'learning_rate': 0.21}\n",
            "8/8 [==============================] - 0s 2ms/step - loss: 107.7964 - mean_squared_error: 107.7964\n",
            "--- Starting trial: run-13\n",
            "{'hidden_size': 32, 'epochs': 300, 'learning_rate': 0.3}\n",
            "8/8 [==============================] - 0s 2ms/step - loss: 101.3465 - mean_squared_error: 101.3465\n",
            "--- Starting trial: run-14\n",
            "{'hidden_size': 32, 'epochs': 300, 'learning_rate': 0.4}\n",
            "8/8 [==============================] - 0s 2ms/step - loss: 116.4285 - mean_squared_error: 116.4285\n",
            "--- Starting trial: run-15\n",
            "{'hidden_size': 32, 'epochs': 1000, 'learning_rate': 0.01}\n",
            "8/8 [==============================] - 0s 2ms/step - loss: 55.4276 - mean_squared_error: 55.4276\n",
            "--- Starting trial: run-16\n",
            "{'hidden_size': 32, 'epochs': 1000, 'learning_rate': 0.11}\n",
            "8/8 [==============================] - 0s 2ms/step - loss: 55.2543 - mean_squared_error: 55.2543\n",
            "--- Starting trial: run-17\n",
            "{'hidden_size': 32, 'epochs': 1000, 'learning_rate': 0.21}\n",
            "8/8 [==============================] - 0s 3ms/step - loss: 80.6729 - mean_squared_error: 80.6729\n",
            "--- Starting trial: run-18\n",
            "{'hidden_size': 32, 'epochs': 1000, 'learning_rate': 0.3}\n",
            "8/8 [==============================] - 0s 2ms/step - loss: 115.9170 - mean_squared_error: 115.9170\n",
            "--- Starting trial: run-19\n",
            "{'hidden_size': 32, 'epochs': 1000, 'learning_rate': 0.4}\n",
            "8/8 [==============================] - 0s 2ms/step - loss: 140.8430 - mean_squared_error: 140.8430\n",
            "--- Starting trial: run-20\n",
            "{'hidden_size': 64, 'epochs': 300, 'learning_rate': 0.01}\n",
            "8/8 [==============================] - 0s 2ms/step - loss: 51.7377 - mean_squared_error: 51.7377\n",
            "--- Starting trial: run-21\n",
            "{'hidden_size': 64, 'epochs': 300, 'learning_rate': 0.11}\n",
            "8/8 [==============================] - 0s 2ms/step - loss: 72.4350 - mean_squared_error: 72.4350\n",
            "--- Starting trial: run-22\n",
            "{'hidden_size': 64, 'epochs': 300, 'learning_rate': 0.21}\n",
            "8/8 [==============================] - 0s 2ms/step - loss: 80.9128 - mean_squared_error: 80.9128\n",
            "--- Starting trial: run-23\n",
            "{'hidden_size': 64, 'epochs': 300, 'learning_rate': 0.3}\n",
            "8/8 [==============================] - 0s 2ms/step - loss: 90.2004 - mean_squared_error: 90.2004\n",
            "--- Starting trial: run-24\n",
            "{'hidden_size': 64, 'epochs': 300, 'learning_rate': 0.4}\n",
            "8/8 [==============================] - 0s 2ms/step - loss: 140.6485 - mean_squared_error: 140.6485\n",
            "--- Starting trial: run-25\n",
            "{'hidden_size': 64, 'epochs': 1000, 'learning_rate': 0.01}\n",
            "8/8 [==============================] - 0s 2ms/step - loss: 47.0630 - mean_squared_error: 47.0630\n",
            "--- Starting trial: run-26\n",
            "{'hidden_size': 64, 'epochs': 1000, 'learning_rate': 0.11}\n",
            "8/8 [==============================] - 0s 2ms/step - loss: 53.1244 - mean_squared_error: 53.1244\n",
            "--- Starting trial: run-27\n",
            "{'hidden_size': 64, 'epochs': 1000, 'learning_rate': 0.21}\n",
            "8/8 [==============================] - 0s 2ms/step - loss: 74.7790 - mean_squared_error: 74.7790\n",
            "--- Starting trial: run-28\n",
            "{'hidden_size': 64, 'epochs': 1000, 'learning_rate': 0.3}\n",
            "8/8 [==============================] - 0s 2ms/step - loss: 77.7136 - mean_squared_error: 77.7136\n",
            "--- Starting trial: run-29\n",
            "{'hidden_size': 64, 'epochs': 1000, 'learning_rate': 0.4}\n",
            "8/8 [==============================] - 0s 2ms/step - loss: 120.4210 - mean_squared_error: 120.4210\n"
          ]
        }
      ],
      "source": [
        "def train_test_model(hparams, logdir):\n",
        "    model = keras.Sequential([\n",
        "       keras.layers.Dense(units=hparams[HP_HIDDEN], activation='relu'),\n",
        "       tf.keras.layers.Dropout(0.5),\n",
        "       keras.layers.Dense(units=1)\n",
        "    ])\n",
        "    model.compile(loss='mean_squared_error',\n",
        "                  optimizer=tf.keras.optimizers.Adam(hparams[HP_LEARNING_RATE]),\n",
        "                  metrics=['mean_squared_error'])\n",
        "    model.fit(X_scaled_train, y_train, validation_data=(X_scaled_test, y_test), epochs=hparams[HP_EPOCHS], verbose=False,\n",
        "              callbacks=[\n",
        "                  tf.keras.callbacks.TensorBoard(logdir),  # log metrics\n",
        "                  hp.KerasCallback(logdir, hparams),  # log hparams\n",
        "                  tf.keras.callbacks.EarlyStopping(\n",
        "                      monitor='val_loss', min_delta=0, patience=200, verbose=0, mode='auto',\n",
        "                  )\n",
        "              ],\n",
        "              )\n",
        "    _, mse = model.evaluate(X_scaled_test, y_test)\n",
        "    pred = model.predict(X_scaled_test)\n",
        "    r2 = r2_score(y_test, pred)\n",
        "    return mse, r2\n",
        "\n",
        "def run(hparams, logdir):\n",
        "    with tf.summary.create_file_writer(logdir).as_default():\n",
        "        hp.hparams_config(\n",
        "            hparams=[HP_HIDDEN, HP_EPOCHS, HP_LEARNING_RATE],\n",
        "            metrics=[hp.Metric('mean_squared_error', display_name='mse'),\n",
        "                     hp.Metric('r2', display_name='r2')],\n",
        "        )\n",
        "        mse, r2 = train_test_model(hparams, logdir)\n",
        "        tf.summary.scalar('mean_squared_error', mse, step=1)\n",
        "        tf.summary.scalar('r2', r2, step=1)\n",
        "\n",
        "\n",
        "session_num = 0\n",
        "\n",
        "for hidden in HP_HIDDEN.domain.values:\n",
        "    for epochs in HP_EPOCHS.domain.values:\n",
        "        for learning_rate in tf.linspace(HP_LEARNING_RATE.domain.min_value, HP_LEARNING_RATE.domain.max_value, 5):\n",
        "            hparams = {\n",
        "                HP_HIDDEN: hidden,\n",
        "                HP_EPOCHS: epochs,\n",
        "                HP_LEARNING_RATE: float(\"%.2f\"%float(learning_rate)),\n",
        "            }\n",
        "            run_name = \"run-%d\" % session_num\n",
        "            print('--- Starting trial: %s' % run_name)\n",
        "            print({h.name: hparams[h] for h in hparams})\n",
        "            run(hparams, 'logs/hparam_tuning/' + run_name)\n",
        "            session_num += 1\n",
        "\n"
      ]
    },
    {
      "cell_type": "code",
      "source": [],
      "metadata": {
        "id": "lBybrpLGgLMO"
      },
      "execution_count": null,
      "outputs": []
    },
    {
      "cell_type": "code",
      "source": [
        "model = keras.Sequential([\n",
        "    keras.layers.Dense(units=64, activation='relu'),\n",
        "    keras.layers.Dense(units=64, activation='relu'),\n",
        "    #tf.keras.layers.Dropout(0.1),\n",
        "    #keras.layers.Dense(units=16, activation='relu'),\n",
        "    #keras.layers.Dense(units=32, activation='relu'),\n",
        "    keras.layers.Dense(units=1)\n",
        "])\n",
        "\n",
        "model.compile(loss='mean_squared_error',\n",
        "              optimizer=tf.keras.optimizers.Adam(0.08))\n",
        "\n",
        "model.fit(X_scaled_train, y_train, epochs=1000, verbose=False)\n",
        "\n",
        "#"
      ],
      "metadata": {
        "id": "Z7gxcSXaZh2H",
        "colab": {
          "base_uri": "https://localhost:8080/"
        },
        "outputId": "725ff983-d1c4-41d9-8d9e-fffc08716423"
      },
      "execution_count": null,
      "outputs": [
        {
          "output_type": "execute_result",
          "data": {
            "text/plain": [
              "<keras.callbacks.History at 0x7efde459e690>"
            ]
          },
          "metadata": {},
          "execution_count": 16
        }
      ]
    },
    {
      "cell_type": "code",
      "source": [
        "predictions = model.predict(X_scaled_test)[:, 0]"
      ],
      "metadata": {
        "id": "FhWYgUBEVlEH"
      },
      "execution_count": null,
      "outputs": []
    },
    {
      "cell_type": "code",
      "source": [
        "model.save('data_concrete/keras_model.h5')\n"
      ],
      "metadata": {
        "id": "EmhGeRkXgO5u"
      },
      "execution_count": null,
      "outputs": []
    },
    {
      "cell_type": "code",
      "execution_count": null,
      "metadata": {
        "colab": {
          "base_uri": "https://localhost:8080/"
        },
        "outputId": "916794b1-d90f-4e63-c08e-6c33ec8c983e",
        "id": "RhHRmnf2gRd0"
      },
      "outputs": [
        {
          "output_type": "stream",
          "name": "stdout",
          "text": [
            "MSE: 43.642\n",
            "MAE: 4.275\n",
            "R^2: 0.835\n"
          ]
        }
      ],
      "source": [
        "from sklearn.metrics import mean_squared_error, mean_absolute_error, r2_score\n",
        "print(f'MSE: {mean_squared_error(y_test, predictions):.3f}')\n",
        "print(f'MAE: {mean_absolute_error(y_test, predictions):.3f}')\n",
        "print(f'R^2: {r2_score(y_test, predictions):.3f}')"
      ]
    },
    {
      "cell_type": "code",
      "source": [
        "plt.plot(data_test.index, y_test, c='k')\n",
        "plt.plot(data_test.index, predictions, c='b')\n",
        "plt.plot(data_test.index, predictions, c='r')\n",
        "plt.plot(data_test.index, predictions, c='g')\n",
        "#plt.xticks(range(0, 252, 10), rotation=1)\n",
        "plt.xlabel('Date')\n",
        "plt.ylabel('Close price')\n",
        "plt.legend(['Truth', 'Neural network prediction'])\n",
        "plt.show()"
      ],
      "metadata": {
        "colab": {
          "base_uri": "https://localhost:8080/",
          "height": 279
        },
        "id": "yafiTRBkZlGW",
        "outputId": "329b5371-c219-4b0f-cf6e-da366e235b36"
      },
      "execution_count": null,
      "outputs": [
        {
          "output_type": "display_data",
          "data": {
            "image/png": "[encoded data removed]",
            "text/plain": [
              "<Figure size 432x288 with 1 Axes>"
            ]
          },
          "metadata": {
            "needs_background": "light"
          }
        }
      ]
    },
    {
      "cell_type": "code",
      "source": [],
      "metadata": {
        "id": "mNtzQZX8gNoN"
      },
      "execution_count": null,
      "outputs": []
    },
    {
      "cell_type": "code",
      "source": [
        "  #X_scaled_train"
      ],
      "metadata": {
        "id": "tbkvW6hTgNpG"
      },
      "execution_count": null,
      "outputs": []
    },
    {
      "cell_type": "code",
      "source": [
        "print(predictions)"
      ],
      "metadata": {
        "colab": {
          "base_uri": "https://localhost:8080/"
        },
        "id": "dTKMhcE5cp4P",
        "outputId": "07a9ce75-814a-44f3-ff6a-27c3b44d4b2c"
      },
      "execution_count": null,
      "outputs": [
        {
          "output_type": "stream",
          "name": "stdout",
          "text": [
            "[40.86501  23.905247 69.29851  36.52488  41.043663 40.577755 39.402786\n",
            " 33.97519  25.324493  9.974627 55.215538 38.473946 28.105799 34.108833\n",
            " 60.284264 31.940243 35.441494 41.153896 20.561264 20.873852 14.102381\n",
            " 14.575001 22.864536 10.710416 15.163099 33.270874 25.088299 49.424706\n",
            " 26.695362 33.306362 33.80514  35.371124 38.027664 38.79833  37.635033\n",
            "  9.974627 33.76033  46.85858  24.108883 17.751263 36.33127  31.13204\n",
            " 65.43346  35.116825 20.602472 28.390057 26.631832 20.671408 25.466013\n",
            " 50.975418 60.41104  39.14174  35.547653 32.43358  52.72637  20.929504\n",
            " 38.225834 12.020216 25.739769 53.536568 62.430748 28.661346 45.350105\n",
            " 37.1413   54.783165 38.70063  23.61851  25.662682 33.607777 15.759599\n",
            " 27.33328  31.612839 29.504038  9.974627 48.52536  12.228101 44.54065\n",
            " 20.760553 20.997932 35.326546 23.899708 33.932594 42.484406 48.60012\n",
            " 66.34246  27.13222  35.261253 36.14942  34.822052 66.32504  46.481483\n",
            " 28.967264 33.369835 51.85958  13.298391 60.36376   9.974627 16.63836\n",
            " 39.206116 14.143931 32.04775  52.194557 28.146008 41.63769  42.755196\n",
            " 21.895832 59.347923 37.227528 33.105534 25.521076 38.225834 46.617256\n",
            " 43.675224 47.577408 27.887709 60.321625 17.836906 69.03052  70.091354\n",
            " 41.49827  42.38423  17.758142 37.64496  24.8373   37.740376 47.246017\n",
            " 25.252388 46.293694 61.131866 44.72393  23.009071 36.41373  30.296883\n",
            " 46.481224 28.631283 55.197884 14.255152 62.8769   26.396267 61.075157\n",
            " 13.640722 26.875551 33.817474 24.062088 37.89868  36.931995 21.38823\n",
            " 35.19821  38.10721  15.717543 12.536858 20.85065  46.055832  9.974627\n",
            " 55.978012 36.025772 19.363453 47.737144 22.962677 42.429825 38.94833\n",
            " 62.045372 56.70855  46.99727  28.072622 50.695496 57.462067 50.565414\n",
            " 29.559109 30.969332 16.71222  40.255928 27.643427 32.410553 37.850235\n",
            " 33.87963  79.49603  43.199287 37.467133 56.823914 16.397617 34.750267\n",
            " 49.14112  34.541    12.627844 47.838737 15.091946 12.059654 18.361391\n",
            " 61.42311  59.42122  59.14373  38.77432  63.063896  9.974627 37.619774\n",
            " 33.87903  38.971344 17.182312 27.180254 37.812767 34.700153 23.85175\n",
            " 32.181694 42.4683   61.91468  37.93478  62.349953 41.364315 27.166805\n",
            " 49.682617 37.00969  22.344023 17.205687 18.275585 44.790222 17.635105\n",
            " 69.03305  57.475807 28.105799 57.49549  50.44393  31.428183 32.86626\n",
            " 39.20685  36.803772 26.738165 25.380089 42.08278  73.9067   30.196892\n",
            " 48.580948 28.265667  9.974627 52.04406  34.051186  9.974627 31.862944\n",
            " 31.917328 54.86564  28.902107 38.744514 31.994833 41.372704 22.885944\n",
            " 21.894821  9.974627  9.974627 13.413393  9.974627 21.222866 12.206172\n",
            " 30.825329 44.308556 48.9729   50.74994 ]\n"
          ]
        }
      ]
    },
    {
      "cell_type": "code",
      "source": [
        "y_test"
      ],
      "metadata": {
        "id": "v1uWBumMcp5B",
        "colab": {
          "base_uri": "https://localhost:8080/"
        },
        "outputId": "d2683e60-2762-43c2-b4ca-0b427667cfc9"
      },
      "execution_count": null,
      "outputs": [
        {
          "output_type": "execute_result",
          "data": {
            "text/plain": [
              "array([44.4 , 24.5 , 71.62, 36.3 , 38.46, 35.86, 40.15, 31.42, 20.73,\n",
              "        4.78, 46.23, 33.56, 23.35, 32.92, 41.37, 32.85, 35.08, 38.2 ,\n",
              "       23.4 , 20.97, 12.18, 13.18, 19.01, 14.64, 11.58, 30.12, 26.06,\n",
              "       56.74, 23.7 , 37.17, 32.11, 38.61, 33.02, 36.45, 52.01,  7.72,\n",
              "       28.68, 59.09, 24.66, 17.57, 46.39, 31.27, 66.9 , 24.34, 20.87,\n",
              "       30.44, 29.75, 15.09, 24.07, 52.44, 67.87, 39.09, 35.23, 38.56,\n",
              "       56.61, 22.32, 49.2 ,  6.27, 25.69, 61.24, 67.8 , 24.89, 47.82,\n",
              "       35.57, 58.8 , 35.1 , 21.75, 28.8 , 30.28, 15.58, 24.1 , 34.9 ,\n",
              "       29.55, 14.4 , 55.83, 15.87, 43.01, 15.36, 22.63, 33.31, 34.77,\n",
              "       36.3 , 44.52, 56.7 , 63.53, 26.85, 33.76, 37.33, 38.7 , 73.7 ,\n",
              "       53.9 , 25.56, 37.17, 53.96, 21.29, 41.37, 10.09, 17.44, 39.61,\n",
              "       12.46, 41.1 , 52.83,  8.54, 41.54, 38.41, 22.5 , 64.3 , 41.89,\n",
              "       33.7 , 23.74, 49.2 , 44.13, 48.72, 51.43, 44.61, 57.92, 15.53,\n",
              "       66.6 , 77.3 , 41.16, 45.08, 17.95, 39.6 , 24.4 , 34.56, 46.64,\n",
              "       27.63, 41.93, 56.5 , 40.87, 19.01, 40.06, 32.77, 53.58, 28.6 ,\n",
              "       46.23, 13.52, 62.05, 27.68, 66.1 , 17.82, 23.22, 34.2 , 24.99,\n",
              "       39.44, 38.11, 21.6 , 34.68, 38.21, 14.99, 30.96, 22.95, 55.6 ,\n",
              "       15.34, 54.77, 37.27, 18.13, 40.93, 24.44, 55.9 , 33.08, 67.31,\n",
              "       59.8 , 55.45, 27.53, 52.45, 16.5 , 56.63, 29.73, 35.3 , 17.96,\n",
              "       44.28, 44.61, 31.38, 36.59, 41.67, 82.6 , 40.27, 42.33, 56.85,\n",
              "       25.48, 40.2 , 59.  , 36.15, 17.17, 44.39, 21.02, 15.34, 21.26,\n",
              "       51.02, 63.14, 68.5 , 36.94, 71.3 , 13.57, 39.66, 33.73, 41.05,\n",
              "       14.94, 25.61, 44.64, 39.58, 25.89, 31.87, 41.94, 61.8 , 47.71,\n",
              "       66.82, 40.93, 32.01, 53.66, 32.72, 21.97, 28.24, 17.54, 40.29,\n",
              "       25.42, 75.5 , 60.29, 25.02, 16.5 , 52.52, 34.24, 27.23, 39.45,\n",
              "       41.2 , 37.96, 22.84, 38.7 , 80.2 , 27.22, 50.24,  8.54, 16.11,\n",
              "       59.3 , 45.71, 12.55, 25.1 , 29.39, 62.94, 26.23, 42.64, 36.44,\n",
              "       44.21, 19.99, 23.52, 10.79,  9.56, 13.2 , 10.39, 21.91, 13.29,\n",
              "       41.3 , 44.28, 55.06, 52.61])"
            ]
          },
          "metadata": {},
          "execution_count": 22
        }
      ]
    }
  ],
  "metadata": {
    "colab": {
      "provenance": []
    },
    "kernelspec": {
      "display_name": "Python 3",
      "language": "python",
      "name": "python3"
    },
    "language_info": {
      "codemirror_mode": {
        "name": "ipython",
        "version": 3
      },
      "file_extension": ".py",
      "mimetype": "text/x-python",
      "name": "python",
      "nbconvert_exporter": "python",
      "pygments_lexer": "ipython3",
      "version": "3.8.8"
    },
    "toc": {
      "base_numbering": 1,
      "nav_menu": {},
      "number_sections": true,
      "sideBar": true,
      "skip_h1_title": false,
      "title_cell": "Table of Contents",
      "title_sidebar": "Contents",
      "toc_cell": false,
      "toc_position": {},
      "toc_section_display": true,
      "toc_window_display": false
    },
    "varInspector": {
      "cols": {
        "lenName": 16,
        "lenType": 16,
        "lenVar": 40
      },
      "kernels_config": {
        "python": {
          "delete_cmd_postfix": "",
          "delete_cmd_prefix": "del ",
          "library": "var_list.py",
          "varRefreshCmd": "print(var_dic_list())"
        },
        "r": {
          "delete_cmd_postfix": ") ",
          "delete_cmd_prefix": "rm(",
          "library": "var_list.r",
          "varRefreshCmd": "cat(var_dic_list()) "
        }
      },
      "types_to_exclude": [
        "module",
        "function",
        "builtin_function_or_method",
        "instance",
        "_Feature"
      ],
      "window_display": false
    },
    "accelerator": "TPU"
  },
  "nbformat": 4,
  "nbformat_minor": 0
}